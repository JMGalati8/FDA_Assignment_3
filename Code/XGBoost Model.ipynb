{
 "cells": [
  {
   "cell_type": "code",
   "execution_count": 43,
   "metadata": {},
   "outputs": [],
   "source": [
    "import pandas as pd\n",
    "import xgboost as xgb\n",
    "\n",
    "from sklearn.model_selection import train_test_split, GridSearchCV\n",
    "from sklearn import preprocessing\n",
    "from sklearn.preprocessing import StandardScaler\n",
    "\n",
    "import numpy as np\n",
    "from sklearn.metrics import precision_score, recall_score, accuracy_score, log_loss, roc_auc_score,classification_report"
   ]
  },
  {
   "cell_type": "code",
   "execution_count": 2,
   "metadata": {},
   "outputs": [],
   "source": [
    "df = pd.read_csv(\"../Data/Clean_Data.csv\")"
   ]
  },
  {
   "cell_type": "code",
   "execution_count": 3,
   "metadata": {},
   "outputs": [],
   "source": [
    "feats = ['BATHRM', 'HF_BATHRM', 'HEAT', 'HEAT_D', 'AC', 'NUM_UNITS',\n",
    "       'ROOMS', 'BEDRM', 'AYB', 'EYB', 'YR_RMDL', 'STORIES', 'SALEDATE',\n",
    "       'PRICE', 'SALE_NUM', 'GBA', 'STYLE', 'STYLE_D', 'STRUCT',\n",
    "       'STRUCT_D', 'GRADE', 'GRADE_D', 'CNDTN', 'CNDTN_D', 'EXTWALL',\n",
    "       'EXTWALL_D', 'ROOF', 'ROOF_D', 'INTWALL', 'INTWALL_D', 'KITCHENS',\n",
    "       'FIREPLACES', 'USECODE', 'LANDAREA']\n",
    "#We have removed ROW_ID, BLDG_NUM, GIS_LAST_MOD_DTTM, QUALIFIED, \n",
    "\n",
    "x = df[feats]\n",
    "y = df['QUALIFIED']"
   ]
  },
  {
   "cell_type": "code",
   "execution_count": 6,
   "metadata": {},
   "outputs": [
    {
     "name": "stderr",
     "output_type": "stream",
     "text": [
      "c:\\users\\j_m_g\\appdata\\local\\programs\\python\\python38\\lib\\site-packages\\pandas\\core\\generic.py:6245: SettingWithCopyWarning: \n",
      "A value is trying to be set on a copy of a slice from a DataFrame\n",
      "\n",
      "See the caveats in the documentation: https://pandas.pydata.org/pandas-docs/stable/user_guide/indexing.html#returning-a-view-versus-a-copy\n",
      "  self._update_inplace(new_data)\n",
      "<ipython-input-6-7e7e17473232>:7: SettingWithCopyWarning: \n",
      "A value is trying to be set on a copy of a slice from a DataFrame.\n",
      "Try using .loc[row_indexer,col_indexer] = value instead\n",
      "\n",
      "See the caveats in the documentation: https://pandas.pydata.org/pandas-docs/stable/user_guide/indexing.html#returning-a-view-versus-a-copy\n",
      "  x[column_name] = le.fit_transform(x[column_name])\n"
     ]
    }
   ],
   "source": [
    "#Label Encoding for the String columns\n",
    "le = preprocessing.LabelEncoder()\n",
    "\n",
    "for column_name in x.columns:\n",
    "    if x[column_name].dtype == object:\n",
    "        x[column_name].fillna('MISSING_DATA', inplace=True)\n",
    "        x[column_name] = le.fit_transform(x[column_name])\n",
    "    else:\n",
    "        x[column_name].fillna(-1, inplace=True)"
   ]
  },
  {
   "cell_type": "code",
   "execution_count": 9,
   "metadata": {},
   "outputs": [],
   "source": [
    "#Split into test and train datasets\n",
    "seed = 42\n",
    "\n",
    "x_train, x_val, y_train, y_val = train_test_split(x, y, test_size=0.3, random_state = seed)"
   ]
  },
  {
   "cell_type": "code",
   "execution_count": 10,
   "metadata": {},
   "outputs": [],
   "source": [
    "D_train = xgb.DMatrix(x_train, label=y_train)\n",
    "D_test = xgb.DMatrix(x_val, label=y_val)"
   ]
  },
  {
   "cell_type": "code",
   "execution_count": 11,
   "metadata": {},
   "outputs": [],
   "source": [
    "param = {\n",
    "    'eta': 0.3, \n",
    "    'max_depth': 3,  \n",
    "    'objective': 'multi:softprob',  \n",
    "    'num_class': 3} \n",
    "\n",
    "steps = 20  # The number of training iterations"
   ]
  },
  {
   "cell_type": "code",
   "execution_count": 12,
   "metadata": {},
   "outputs": [],
   "source": [
    "model = xgb.train(param, D_train, steps)"
   ]
  },
  {
   "cell_type": "code",
   "execution_count": 18,
   "metadata": {},
   "outputs": [
    {
     "name": "stdout",
     "output_type": "stream",
     "text": [
      "Precision = 0.9050399792253685\n",
      "Recall = 0.9141921229476635\n",
      "Accuracy = 0.9030981908698937\n",
      "0.9141921229476635\n"
     ]
    }
   ],
   "source": [
    "preds = model.predict(D_test)\n",
    "best_preds = np.asarray([np.argmax(line) for line in preds])\n",
    "\n",
    "print(\"Precision = {}\".format(precision_score(y_val, best_preds, average='macro')))\n",
    "print(\"Recall = {}\".format(recall_score(y_val, best_preds, average='macro')))\n",
    "print(\"Accuracy = {}\".format(accuracy_score(y_val, best_preds)))\n",
    "print(roc_auc_score(y_val, best_preds))"
   ]
  },
  {
   "cell_type": "code",
   "execution_count": 21,
   "metadata": {},
   "outputs": [
    {
     "data": {
      "text/plain": [
       "GridSearchCV(cv=3,\n",
       "             estimator=XGBClassifier(base_score=None, booster=None,\n",
       "                                     colsample_bylevel=None,\n",
       "                                     colsample_bynode=None,\n",
       "                                     colsample_bytree=None, gamma=None,\n",
       "                                     gpu_id=None, importance_type='gain',\n",
       "                                     interaction_constraints=None,\n",
       "                                     learning_rate=None, max_delta_step=None,\n",
       "                                     max_depth=None, min_child_weight=None,\n",
       "                                     missing=nan, monotone_constraints=None,\n",
       "                                     n_estimators=100, n_jobs=None,\n",
       "                                     num_parallel_tree=None, random_state=None,\n",
       "                                     reg_alpha=None, reg_lambda=None,\n",
       "                                     scale_pos_weight=None, subsample=None,\n",
       "                                     tree_method=None, validate_parameters=None,\n",
       "                                     verbosity=None),\n",
       "             n_jobs=4,\n",
       "             param_grid={'colsample_bytree': [0.3], 'eta': [0.05, 0.15, 0.25],\n",
       "                         'gamma': [0.0, 0.1, 0.2], 'max_depth': [3, 5, 10, 15],\n",
       "                         'min_child_weight': [1, 4, 8]},\n",
       "             scoring='neg_log_loss')"
      ]
     },
     "execution_count": 21,
     "metadata": {},
     "output_type": "execute_result"
    }
   ],
   "source": [
    "clf = xgb.XGBClassifier()\n",
    "parameters = {\n",
    "     \"eta\"    : [0.05, 0.15, 0.25] ,\n",
    "     \"max_depth\"        : [ 3, 5, 10, 15],\n",
    "     \"min_child_weight\" : [ 1, 4, 8 ],\n",
    "     \"gamma\"            : [ 0.0, 0.1, 0.2],\n",
    "     \"colsample_bytree\" : [ 0.3 ]\n",
    "     }\n",
    "\n",
    "grid = GridSearchCV(clf,\n",
    "                    parameters, n_jobs=4,\n",
    "                    scoring=\"neg_log_loss\",\n",
    "                    cv=3)\n",
    "\n",
    "grid.fit(x_train, y_train)"
   ]
  },
  {
   "cell_type": "code",
   "execution_count": 24,
   "metadata": {},
   "outputs": [
    {
     "name": "stdout",
     "output_type": "stream",
     "text": [
      "<bound method XGBModel.get_params of XGBClassifier(base_score=0.5, booster='gbtree', colsample_bylevel=1,\n",
      "              colsample_bynode=1, colsample_bytree=0.3, eta=0.25, gamma=0.0,\n",
      "              gpu_id=-1, importance_type='gain', interaction_constraints='',\n",
      "              learning_rate=0.25, max_delta_step=0, max_depth=5,\n",
      "              min_child_weight=1, missing=nan, monotone_constraints='()',\n",
      "              n_estimators=100, n_jobs=0, num_parallel_tree=1, random_state=0,\n",
      "              reg_alpha=0, reg_lambda=1, scale_pos_weight=1, subsample=1,\n",
      "              tree_method='exact', validate_parameters=1, verbosity=None)>\n"
     ]
    }
   ],
   "source": [
    "print(grid.best_estimator_.get_params)"
   ]
  },
  {
   "cell_type": "code",
   "execution_count": 28,
   "metadata": {},
   "outputs": [
    {
     "name": "stdout",
     "output_type": "stream",
     "text": [
      "0.9223851513872916\n",
      "              precision    recall  f1-score   support\n",
      "\n",
      "           0       0.97      0.88      0.92     12940\n",
      "           1       0.85      0.97      0.91      9557\n",
      "\n",
      "    accuracy                           0.92     22497\n",
      "   macro avg       0.91      0.92      0.91     22497\n",
      "weighted avg       0.92      0.92      0.92     22497\n",
      "\n"
     ]
    }
   ],
   "source": [
    "y_pred = grid.best_estimator_.predict(x_val)\n",
    "print(roc_auc_score(y_val, y_pred))\n",
    "\n",
    "print(classification_report(y_val, y_pred))"
   ]
  },
  {
   "cell_type": "code",
   "execution_count": 40,
   "metadata": {},
   "outputs": [
    {
     "data": {
      "text/plain": [
       "GridSearchCV(cv=10,\n",
       "             estimator=XGBClassifier(base_score=None, booster=None,\n",
       "                                     colsample_bylevel=None,\n",
       "                                     colsample_bynode=None,\n",
       "                                     colsample_bytree=None, gamma=None,\n",
       "                                     gpu_id=None, importance_type='gain',\n",
       "                                     interaction_constraints=None,\n",
       "                                     learning_rate=None, max_delta_step=None,\n",
       "                                     max_depth=None, min_child_weight=None,\n",
       "                                     missing=nan, monotone_constraints=None,\n",
       "                                     n_estimators=100, n_job...\n",
       "                                     num_parallel_tree=None, random_state=None,\n",
       "                                     reg_alpha=None, reg_lambda=None,\n",
       "                                     scale_pos_weight=None, subsample=None,\n",
       "                                     tree_method=None, validate_parameters=None,\n",
       "                                     verbosity=None),\n",
       "             n_jobs=4,\n",
       "             param_grid={'colsample_bytree': [0.3, 0.6, 0.8, 1],\n",
       "                         'eta': [0.2, 0.25, 0.3, 0.35],\n",
       "                         'gamma': [0.0, 0.1, 0.2], 'gpu_id': [0],\n",
       "                         'max_depth': [3, 5, 8, 10],\n",
       "                         'min_child_weight': [1, 2, 3]},\n",
       "             scoring='neg_log_loss')"
      ]
     },
     "execution_count": 40,
     "metadata": {},
     "output_type": "execute_result"
    }
   ],
   "source": [
    "clf = xgb.XGBClassifier()\n",
    "parameters = {\n",
    "     \"eta\"    : [0.2, 0.25, 0.3, 0.35] ,\n",
    "     \"max_depth\"        : [ 3, 5, 8, 10],\n",
    "     \"min_child_weight\" : [ 1, 2, 3 ],\n",
    "     \"gamma\"            : [ 0.0, 0.1, 0.2],\n",
    "     \"colsample_bytree\" : [ 0.3, 0.6, 0.8, 1 ],\n",
    "     \"gpu_id\": [0]\n",
    "     }\n",
    "\n",
    "grid = GridSearchCV(clf,\n",
    "                    parameters, n_jobs=4,\n",
    "                    scoring=\"neg_log_loss\",\n",
    "                    cv=10)\n",
    "\n",
    "grid.fit(x_train, y_train)"
   ]
  },
  {
   "cell_type": "code",
   "execution_count": 41,
   "metadata": {},
   "outputs": [
    {
     "name": "stdout",
     "output_type": "stream",
     "text": [
      "<bound method XGBModel.get_params of XGBClassifier(base_score=0.5, booster='gbtree', colsample_bylevel=1,\n",
      "              colsample_bynode=1, colsample_bytree=0.8, eta=0.25, gamma=0.1,\n",
      "              gpu_id=0, importance_type='gain', interaction_constraints='',\n",
      "              learning_rate=0.25, max_delta_step=0, max_depth=5,\n",
      "              min_child_weight=3, missing=nan, monotone_constraints='()',\n",
      "              n_estimators=100, n_jobs=0, num_parallel_tree=1, random_state=0,\n",
      "              reg_alpha=0, reg_lambda=1, scale_pos_weight=1, subsample=1,\n",
      "              tree_method='exact', validate_parameters=1, verbosity=None)>\n"
     ]
    }
   ],
   "source": [
    "print(grid.best_estimator_.get_params)"
   ]
  },
  {
   "cell_type": "code",
   "execution_count": 42,
   "metadata": {},
   "outputs": [
    {
     "name": "stdout",
     "output_type": "stream",
     "text": [
      "0.9237843944225317\n",
      "              precision    recall  f1-score   support\n",
      "\n",
      "           0       0.97      0.88      0.92     12940\n",
      "           1       0.86      0.97      0.91      9557\n",
      "\n",
      "    accuracy                           0.92     22497\n",
      "   macro avg       0.92      0.92      0.92     22497\n",
      "weighted avg       0.92      0.92      0.92     22497\n",
      "\n"
     ]
    }
   ],
   "source": [
    "y_pred = grid.best_estimator_.predict(x_val)\n",
    "print(roc_auc_score(y_val, y_pred))\n",
    "\n",
    "print(classification_report(y_val, y_pred))"
   ]
  },
  {
   "cell_type": "code",
   "execution_count": 59,
   "metadata": {},
   "outputs": [],
   "source": [
    "scaler = StandardScaler()\n",
    "\n",
    "scaler.fit(x)\n",
    "x_scaler = scaler.transform(x)"
   ]
  },
  {
   "cell_type": "code",
   "execution_count": 77,
   "metadata": {},
   "outputs": [],
   "source": [
    "#Split into test and train datasets\n",
    "seed = 42\n",
    "\n",
    "x_train, x_val, y_train, y_val = train_test_split(x_scaler, y, test_size=0.2, random_state = seed)"
   ]
  },
  {
   "cell_type": "code",
   "execution_count": 78,
   "metadata": {},
   "outputs": [
    {
     "name": "stdout",
     "output_type": "stream",
     "text": [
      "0.9377219156845422\n",
      "0.946697220447637\n",
      "              precision    recall  f1-score   support\n",
      "\n",
      "           0       0.98      0.91      0.95      8693\n",
      "           1       0.89      0.98      0.93      6305\n",
      "\n",
      "    accuracy                           0.94     14998\n",
      "   macro avg       0.94      0.95      0.94     14998\n",
      "weighted avg       0.95      0.94      0.94     14998\n",
      "\n"
     ]
    }
   ],
   "source": [
    "model3 = xgb.XGBClassifier(seed=seed, nthread=3)\n",
    "model3.fit(df_test,y)\n",
    "print(model3.score(x_train,y_train))\n",
    "\n",
    "y_pred = model3.predict(x_val)\n",
    "print(roc_auc_score(y_val, y_pred))\n",
    "\n",
    "print(classification_report(y_val, y_pred))"
   ]
  },
  {
   "cell_type": "code",
   "execution_count": 71,
   "metadata": {},
   "outputs": [],
   "source": [
    "pred_df = pd.read_csv(\"../Data/Clean_Pred_Data.csv\")"
   ]
  },
  {
   "cell_type": "code",
   "execution_count": 73,
   "metadata": {},
   "outputs": [
    {
     "name": "stderr",
     "output_type": "stream",
     "text": [
      "c:\\users\\j_m_g\\appdata\\local\\programs\\python\\python38\\lib\\site-packages\\pandas\\core\\generic.py:6245: SettingWithCopyWarning: \n",
      "A value is trying to be set on a copy of a slice from a DataFrame\n",
      "\n",
      "See the caveats in the documentation: https://pandas.pydata.org/pandas-docs/stable/user_guide/indexing.html#returning-a-view-versus-a-copy\n",
      "  self._update_inplace(new_data)\n",
      "<ipython-input-73-b236f6d6f74b>:9: SettingWithCopyWarning: \n",
      "A value is trying to be set on a copy of a slice from a DataFrame.\n",
      "Try using .loc[row_indexer,col_indexer] = value instead\n",
      "\n",
      "See the caveats in the documentation: https://pandas.pydata.org/pandas-docs/stable/user_guide/indexing.html#returning-a-view-versus-a-copy\n",
      "  p[column_name] = le.fit_transform(p[column_name])\n"
     ]
    }
   ],
   "source": [
    "p = pred_df[feats]\n",
    "\n",
    "#Label Encoding for the String columns\n",
    "le = preprocessing.LabelEncoder()\n",
    "\n",
    "for column_name in x.columns:\n",
    "    if p[column_name].dtype == object:\n",
    "        p[column_name].fillna('MISSING_DATA', inplace=True)\n",
    "        p[column_name] = le.fit_transform(p[column_name])\n",
    "    else:\n",
    "        p[column_name].fillna(-1, inplace=True)\n",
    "        \n",
    "scaler = StandardScaler()\n",
    "\n",
    "scaler.fit(p)\n",
    "p = scaler.transform(p)"
   ]
  },
  {
   "cell_type": "code",
   "execution_count": 74,
   "metadata": {},
   "outputs": [
    {
     "data": {
      "text/plain": [
       "array([[ 1.86442918, -0.98140875, -0.12903025, ...,  4.82634548,\n",
       "         1.59285236, -0.23718095],\n",
       "       [ 0.91956129,  0.64442723,  1.0607399 , ...,  2.62134678,\n",
       "         1.59285236, -0.23718095],\n",
       "       [-0.97017449, -0.98140875, -0.12903025, ..., -0.68615126,\n",
       "         1.59285236, -0.29426837],\n",
       "       ...,\n",
       "       [ 0.91956129, -0.98140875, -1.31880039, ..., -0.68615126,\n",
       "         1.44567481,  0.110521  ],\n",
       "       [-0.0253066 , -0.98140875, -1.31880039, ..., -0.68615126,\n",
       "         1.44567481,  0.32919718],\n",
       "       [-0.0253066 , -0.98140875, -1.31880039, ..., -0.68615126,\n",
       "         1.44567481,  0.22851076]])"
      ]
     },
     "execution_count": 74,
     "metadata": {},
     "output_type": "execute_result"
    }
   ],
   "source": [
    "p"
   ]
  },
  {
   "cell_type": "code",
   "execution_count": 75,
   "metadata": {},
   "outputs": [],
   "source": [
    "p_pred = model3.predict(p)\n",
    "\n",
    "upload_df = pd.DataFrame()\n",
    "upload_df['row ID'] = pred_df['row ID']\n",
    "upload_df['Predict-Qualified'] = p_pred\n",
    "upload_df.to_csv(r'../Data/XGBoost_Prediction_Clean_Data.csv', index = False)"
   ]
  },
  {
   "cell_type": "code",
   "execution_count": 76,
   "metadata": {},
   "outputs": [
    {
     "data": {
      "text/plain": [
       "32147"
      ]
     },
     "execution_count": 76,
     "metadata": {},
     "output_type": "execute_result"
    }
   ],
   "source": [
    "len(p_pred)"
   ]
  }
 ],
 "metadata": {
  "kernelspec": {
   "display_name": "Python 3",
   "language": "python",
   "name": "python3"
  },
  "language_info": {
   "codemirror_mode": {
    "name": "ipython",
    "version": 3
   },
   "file_extension": ".py",
   "mimetype": "text/x-python",
   "name": "python",
   "nbconvert_exporter": "python",
   "pygments_lexer": "ipython3",
   "version": "3.8.3"
  }
 },
 "nbformat": 4,
 "nbformat_minor": 4
}
