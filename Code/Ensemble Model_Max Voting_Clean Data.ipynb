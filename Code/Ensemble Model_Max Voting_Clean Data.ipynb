{
 "cells": [
  {
   "cell_type": "code",
   "execution_count": 90,
   "metadata": {},
   "outputs": [],
   "source": [
    "import pandas as pd\n",
    "\n",
    "import sklearn\n",
    "from sklearn.model_selection import train_test_split, GridSearchCV\n",
    "from sklearn.ensemble import VotingClassifier, RandomForestClassifier, GradientBoostingClassifier, StackingClassifier\n",
    "from sklearn.linear_model import LogisticRegression\n",
    "from sklearn.tree import DecisionTreeClassifier\n",
    "from sklearn import preprocessing\n",
    "from sklearn.metrics import log_loss, roc_auc_score, classification_report\n",
    "from sklearn.svm import SVC\n",
    "from sklearn.neighbors import KNeighborsClassifier\n",
    "from sklearn.naive_bayes import GaussianNB\n",
    "from sklearn.preprocessing import StandardScaler\n",
    "\n",
    "from xgboost import XGBClassifier"
   ]
  },
  {
   "cell_type": "code",
   "execution_count": 44,
   "metadata": {},
   "outputs": [],
   "source": [
    "df = pd.read_csv(\"../Data/Clean_Data.csv\")"
   ]
  },
  {
   "cell_type": "code",
   "execution_count": 8,
   "metadata": {},
   "outputs": [
    {
     "data": {
      "text/plain": [
       "Index(['row ID', 'BATHRM', 'HF_BATHRM', 'HEAT', 'HEAT_D', 'AC', 'NUM_UNITS',\n",
       "       'ROOMS', 'BEDRM', 'AYB', 'YR_RMDL', 'EYB', 'STORIES', 'SALEDATE',\n",
       "       'PRICE', 'SALE_NUM', 'GBA', 'BLDG_NUM', 'STYLE', 'STYLE_D', 'STRUCT',\n",
       "       'STRUCT_D', 'GRADE', 'GRADE_D', 'CNDTN', 'CNDTN_D', 'EXTWALL',\n",
       "       'EXTWALL_D', 'ROOF', 'ROOF_D', 'INTWALL', 'INTWALL_D', 'KITCHENS',\n",
       "       'FIREPLACES', 'USECODE', 'LANDAREA', 'GIS_LAST_MOD_DTTM', 'QUALIFIED'],\n",
       "      dtype='object')"
      ]
     },
     "execution_count": 8,
     "metadata": {},
     "output_type": "execute_result"
    }
   ],
   "source": [
    "df.columns"
   ]
  },
  {
   "cell_type": "markdown",
   "metadata": {},
   "source": [
    "Firstly we want to create a base version\n",
    "\n",
    "This won't have any pre-processing done to it. The way the Kaggle system works means we can use this to get a (vague) idea of whether we improved upon our model through data engineering."
   ]
  },
  {
   "cell_type": "code",
   "execution_count": 45,
   "metadata": {},
   "outputs": [],
   "source": [
    "feats = ['BATHRM', 'HF_BATHRM', 'HEAT', 'HEAT_D', 'AC', 'NUM_UNITS',\n",
    "       'ROOMS', 'BEDRM', 'AYB', 'EYB', 'YR_RMDL', 'STORIES', 'SALEDATE',\n",
    "       'PRICE', 'SALE_NUM', 'GBA', 'STYLE', 'STYLE_D', 'STRUCT',\n",
    "       'STRUCT_D', 'GRADE', 'GRADE_D', 'CNDTN', 'CNDTN_D', 'EXTWALL',\n",
    "       'EXTWALL_D', 'ROOF', 'ROOF_D', 'INTWALL', 'INTWALL_D', 'KITCHENS',\n",
    "       'FIREPLACES', 'USECODE', 'LANDAREA']\n",
    "#We have removed ROW_ID, BLDG_NUM, GIS_LAST_MOD_DTTM, QUALIFIED, \n",
    "\n",
    "x = df[feats]\n",
    "y = df['QUALIFIED']"
   ]
  },
  {
   "cell_type": "code",
   "execution_count": 46,
   "metadata": {},
   "outputs": [
    {
     "name": "stderr",
     "output_type": "stream",
     "text": [
      "c:\\users\\j_m_g\\appdata\\local\\programs\\python\\python38\\lib\\site-packages\\pandas\\core\\generic.py:6245: SettingWithCopyWarning: \n",
      "A value is trying to be set on a copy of a slice from a DataFrame\n",
      "\n",
      "See the caveats in the documentation: https://pandas.pydata.org/pandas-docs/stable/user_guide/indexing.html#returning-a-view-versus-a-copy\n",
      "  self._update_inplace(new_data)\n",
      "<ipython-input-46-7e7e17473232>:7: SettingWithCopyWarning: \n",
      "A value is trying to be set on a copy of a slice from a DataFrame.\n",
      "Try using .loc[row_indexer,col_indexer] = value instead\n",
      "\n",
      "See the caveats in the documentation: https://pandas.pydata.org/pandas-docs/stable/user_guide/indexing.html#returning-a-view-versus-a-copy\n",
      "  x[column_name] = le.fit_transform(x[column_name])\n"
     ]
    }
   ],
   "source": [
    "#Label Encoding for the String columns\n",
    "le = preprocessing.LabelEncoder()\n",
    "\n",
    "for column_name in x.columns:\n",
    "    if x[column_name].dtype == object:\n",
    "        x[column_name].fillna('MISSING_DATA', inplace=True)\n",
    "        x[column_name] = le.fit_transform(x[column_name])\n",
    "    else:\n",
    "        x[column_name].fillna(-1, inplace=True)"
   ]
  },
  {
   "cell_type": "code",
   "execution_count": 47,
   "metadata": {},
   "outputs": [
    {
     "data": {
      "text/html": [
       "<div>\n",
       "<style scoped>\n",
       "    .dataframe tbody tr th:only-of-type {\n",
       "        vertical-align: middle;\n",
       "    }\n",
       "\n",
       "    .dataframe tbody tr th {\n",
       "        vertical-align: top;\n",
       "    }\n",
       "\n",
       "    .dataframe thead th {\n",
       "        text-align: right;\n",
       "    }\n",
       "</style>\n",
       "<table border=\"1\" class=\"dataframe\">\n",
       "  <thead>\n",
       "    <tr style=\"text-align: right;\">\n",
       "      <th></th>\n",
       "      <th>BATHRM</th>\n",
       "      <th>HF_BATHRM</th>\n",
       "      <th>HEAT</th>\n",
       "      <th>HEAT_D</th>\n",
       "      <th>AC</th>\n",
       "      <th>NUM_UNITS</th>\n",
       "      <th>ROOMS</th>\n",
       "      <th>BEDRM</th>\n",
       "      <th>AYB</th>\n",
       "      <th>EYB</th>\n",
       "      <th>...</th>\n",
       "      <th>EXTWALL</th>\n",
       "      <th>EXTWALL_D</th>\n",
       "      <th>ROOF</th>\n",
       "      <th>ROOF_D</th>\n",
       "      <th>INTWALL</th>\n",
       "      <th>INTWALL_D</th>\n",
       "      <th>KITCHENS</th>\n",
       "      <th>FIREPLACES</th>\n",
       "      <th>USECODE</th>\n",
       "      <th>LANDAREA</th>\n",
       "    </tr>\n",
       "  </thead>\n",
       "  <tbody>\n",
       "    <tr>\n",
       "      <th>0</th>\n",
       "      <td>3.0</td>\n",
       "      <td>1.0</td>\n",
       "      <td>7.0</td>\n",
       "      <td>12</td>\n",
       "      <td>2</td>\n",
       "      <td>2.0</td>\n",
       "      <td>11.0</td>\n",
       "      <td>5.0</td>\n",
       "      <td>1</td>\n",
       "      <td>1972</td>\n",
       "      <td>...</td>\n",
       "      <td>14.0</td>\n",
       "      <td>6</td>\n",
       "      <td>2.0</td>\n",
       "      <td>0</td>\n",
       "      <td>6.0</td>\n",
       "      <td>3</td>\n",
       "      <td>2.0</td>\n",
       "      <td>4.0</td>\n",
       "      <td>24</td>\n",
       "      <td>1680</td>\n",
       "    </tr>\n",
       "    <tr>\n",
       "      <th>1</th>\n",
       "      <td>3.0</td>\n",
       "      <td>1.0</td>\n",
       "      <td>13.0</td>\n",
       "      <td>7</td>\n",
       "      <td>2</td>\n",
       "      <td>2.0</td>\n",
       "      <td>9.0</td>\n",
       "      <td>5.0</td>\n",
       "      <td>1</td>\n",
       "      <td>1984</td>\n",
       "      <td>...</td>\n",
       "      <td>14.0</td>\n",
       "      <td>6</td>\n",
       "      <td>2.0</td>\n",
       "      <td>0</td>\n",
       "      <td>6.0</td>\n",
       "      <td>3</td>\n",
       "      <td>2.0</td>\n",
       "      <td>4.0</td>\n",
       "      <td>24</td>\n",
       "      <td>1680</td>\n",
       "    </tr>\n",
       "    <tr>\n",
       "      <th>2</th>\n",
       "      <td>2.0</td>\n",
       "      <td>1.0</td>\n",
       "      <td>7.0</td>\n",
       "      <td>12</td>\n",
       "      <td>2</td>\n",
       "      <td>1.0</td>\n",
       "      <td>11.0</td>\n",
       "      <td>3.0</td>\n",
       "      <td>1</td>\n",
       "      <td>1985</td>\n",
       "      <td>...</td>\n",
       "      <td>14.0</td>\n",
       "      <td>6</td>\n",
       "      <td>13.0</td>\n",
       "      <td>9</td>\n",
       "      <td>6.0</td>\n",
       "      <td>3</td>\n",
       "      <td>1.0</td>\n",
       "      <td>0.0</td>\n",
       "      <td>13</td>\n",
       "      <td>2032</td>\n",
       "    </tr>\n",
       "    <tr>\n",
       "      <th>3</th>\n",
       "      <td>3.0</td>\n",
       "      <td>2.0</td>\n",
       "      <td>13.0</td>\n",
       "      <td>7</td>\n",
       "      <td>2</td>\n",
       "      <td>1.0</td>\n",
       "      <td>10.0</td>\n",
       "      <td>5.0</td>\n",
       "      <td>1</td>\n",
       "      <td>1972</td>\n",
       "      <td>...</td>\n",
       "      <td>14.0</td>\n",
       "      <td>6</td>\n",
       "      <td>2.0</td>\n",
       "      <td>0</td>\n",
       "      <td>6.0</td>\n",
       "      <td>3</td>\n",
       "      <td>1.0</td>\n",
       "      <td>4.0</td>\n",
       "      <td>11</td>\n",
       "      <td>2196</td>\n",
       "    </tr>\n",
       "    <tr>\n",
       "      <th>4</th>\n",
       "      <td>3.0</td>\n",
       "      <td>1.0</td>\n",
       "      <td>7.0</td>\n",
       "      <td>12</td>\n",
       "      <td>2</td>\n",
       "      <td>2.0</td>\n",
       "      <td>7.0</td>\n",
       "      <td>3.0</td>\n",
       "      <td>1</td>\n",
       "      <td>1967</td>\n",
       "      <td>...</td>\n",
       "      <td>14.0</td>\n",
       "      <td>6</td>\n",
       "      <td>2.0</td>\n",
       "      <td>0</td>\n",
       "      <td>6.0</td>\n",
       "      <td>3</td>\n",
       "      <td>2.0</td>\n",
       "      <td>1.0</td>\n",
       "      <td>24</td>\n",
       "      <td>1424</td>\n",
       "    </tr>\n",
       "  </tbody>\n",
       "</table>\n",
       "<p>5 rows × 34 columns</p>\n",
       "</div>"
      ],
      "text/plain": [
       "   BATHRM  HF_BATHRM  HEAT  HEAT_D  AC  NUM_UNITS  ROOMS  BEDRM  AYB   EYB  \\\n",
       "0     3.0        1.0   7.0      12   2        2.0   11.0    5.0    1  1972   \n",
       "1     3.0        1.0  13.0       7   2        2.0    9.0    5.0    1  1984   \n",
       "2     2.0        1.0   7.0      12   2        1.0   11.0    3.0    1  1985   \n",
       "3     3.0        2.0  13.0       7   2        1.0   10.0    5.0    1  1972   \n",
       "4     3.0        1.0   7.0      12   2        2.0    7.0    3.0    1  1967   \n",
       "\n",
       "   ...  EXTWALL  EXTWALL_D  ROOF  ROOF_D  INTWALL  INTWALL_D  KITCHENS  \\\n",
       "0  ...     14.0          6   2.0       0      6.0          3       2.0   \n",
       "1  ...     14.0          6   2.0       0      6.0          3       2.0   \n",
       "2  ...     14.0          6  13.0       9      6.0          3       1.0   \n",
       "3  ...     14.0          6   2.0       0      6.0          3       1.0   \n",
       "4  ...     14.0          6   2.0       0      6.0          3       2.0   \n",
       "\n",
       "   FIREPLACES  USECODE  LANDAREA  \n",
       "0         4.0       24      1680  \n",
       "1         4.0       24      1680  \n",
       "2         0.0       13      2032  \n",
       "3         4.0       11      2196  \n",
       "4         1.0       24      1424  \n",
       "\n",
       "[5 rows x 34 columns]"
      ]
     },
     "execution_count": 47,
     "metadata": {},
     "output_type": "execute_result"
    }
   ],
   "source": [
    "x.head()"
   ]
  },
  {
   "cell_type": "code",
   "execution_count": 23,
   "metadata": {},
   "outputs": [
    {
     "data": {
      "text/html": [
       "<div>\n",
       "<style scoped>\n",
       "    .dataframe tbody tr th:only-of-type {\n",
       "        vertical-align: middle;\n",
       "    }\n",
       "\n",
       "    .dataframe tbody tr th {\n",
       "        vertical-align: top;\n",
       "    }\n",
       "\n",
       "    .dataframe thead th {\n",
       "        text-align: right;\n",
       "    }\n",
       "</style>\n",
       "<table border=\"1\" class=\"dataframe\">\n",
       "  <thead>\n",
       "    <tr style=\"text-align: right;\">\n",
       "      <th></th>\n",
       "      <th>BATHRM</th>\n",
       "      <th>HF_BATHRM</th>\n",
       "      <th>HEAT</th>\n",
       "      <th>HEAT_D</th>\n",
       "      <th>AC</th>\n",
       "      <th>NUM_UNITS</th>\n",
       "      <th>ROOMS</th>\n",
       "      <th>BEDRM</th>\n",
       "      <th>AYB</th>\n",
       "      <th>EYB</th>\n",
       "      <th>...</th>\n",
       "      <th>EXTWALL</th>\n",
       "      <th>EXTWALL_D</th>\n",
       "      <th>ROOF</th>\n",
       "      <th>ROOF_D</th>\n",
       "      <th>INTWALL</th>\n",
       "      <th>INTWALL_D</th>\n",
       "      <th>KITCHENS</th>\n",
       "      <th>FIREPLACES</th>\n",
       "      <th>USECODE</th>\n",
       "      <th>LANDAREA</th>\n",
       "    </tr>\n",
       "  </thead>\n",
       "  <tbody>\n",
       "    <tr>\n",
       "      <th>count</th>\n",
       "      <td>74987.000000</td>\n",
       "      <td>74987.000000</td>\n",
       "      <td>74987.000000</td>\n",
       "      <td>74987.000000</td>\n",
       "      <td>74987.000000</td>\n",
       "      <td>74987.000000</td>\n",
       "      <td>74987.000000</td>\n",
       "      <td>74987.000000</td>\n",
       "      <td>74987.000000</td>\n",
       "      <td>74987.000000</td>\n",
       "      <td>...</td>\n",
       "      <td>74987.000000</td>\n",
       "      <td>74987.000000</td>\n",
       "      <td>74987.000000</td>\n",
       "      <td>74987.000000</td>\n",
       "      <td>74987.000000</td>\n",
       "      <td>74987.000000</td>\n",
       "      <td>74987.000000</td>\n",
       "      <td>74987.000000</td>\n",
       "      <td>74987.000000</td>\n",
       "      <td>74987.000000</td>\n",
       "    </tr>\n",
       "    <tr>\n",
       "      <th>mean</th>\n",
       "      <td>2.035660</td>\n",
       "      <td>0.608292</td>\n",
       "      <td>7.645952</td>\n",
       "      <td>7.754091</td>\n",
       "      <td>1.620921</td>\n",
       "      <td>1.195967</td>\n",
       "      <td>7.356168</td>\n",
       "      <td>3.372758</td>\n",
       "      <td>1933.740968</td>\n",
       "      <td>1966.257591</td>\n",
       "      <td>...</td>\n",
       "      <td>13.355608</td>\n",
       "      <td>8.147799</td>\n",
       "      <td>3.992239</td>\n",
       "      <td>4.363570</td>\n",
       "      <td>6.144772</td>\n",
       "      <td>3.627389</td>\n",
       "      <td>1.217491</td>\n",
       "      <td>0.619761</td>\n",
       "      <td>13.124182</td>\n",
       "      <td>3419.506875</td>\n",
       "    </tr>\n",
       "    <tr>\n",
       "      <th>std</th>\n",
       "      <td>1.067649</td>\n",
       "      <td>0.617184</td>\n",
       "      <td>5.038308</td>\n",
       "      <td>2.751754</td>\n",
       "      <td>0.486259</td>\n",
       "      <td>0.593972</td>\n",
       "      <td>2.356113</td>\n",
       "      <td>1.169626</td>\n",
       "      <td>36.083904</td>\n",
       "      <td>16.418251</td>\n",
       "      <td>...</td>\n",
       "      <td>3.938126</td>\n",
       "      <td>5.919490</td>\n",
       "      <td>3.351630</td>\n",
       "      <td>4.238063</td>\n",
       "      <td>1.960660</td>\n",
       "      <td>2.235960</td>\n",
       "      <td>0.624920</td>\n",
       "      <td>0.889512</td>\n",
       "      <td>3.971845</td>\n",
       "      <td>5520.064430</td>\n",
       "    </tr>\n",
       "    <tr>\n",
       "      <th>min</th>\n",
       "      <td>0.000000</td>\n",
       "      <td>-1.000000</td>\n",
       "      <td>0.000000</td>\n",
       "      <td>0.000000</td>\n",
       "      <td>0.000000</td>\n",
       "      <td>0.000000</td>\n",
       "      <td>-1.000000</td>\n",
       "      <td>-1.000000</td>\n",
       "      <td>-1.000000</td>\n",
       "      <td>1900.000000</td>\n",
       "      <td>...</td>\n",
       "      <td>0.000000</td>\n",
       "      <td>0.000000</td>\n",
       "      <td>0.000000</td>\n",
       "      <td>0.000000</td>\n",
       "      <td>0.000000</td>\n",
       "      <td>0.000000</td>\n",
       "      <td>-1.000000</td>\n",
       "      <td>-1.000000</td>\n",
       "      <td>11.000000</td>\n",
       "      <td>0.000000</td>\n",
       "    </tr>\n",
       "    <tr>\n",
       "      <th>25%</th>\n",
       "      <td>1.000000</td>\n",
       "      <td>0.000000</td>\n",
       "      <td>1.000000</td>\n",
       "      <td>5.000000</td>\n",
       "      <td>1.000000</td>\n",
       "      <td>1.000000</td>\n",
       "      <td>6.000000</td>\n",
       "      <td>3.000000</td>\n",
       "      <td>1914.000000</td>\n",
       "      <td>1955.000000</td>\n",
       "      <td>...</td>\n",
       "      <td>14.000000</td>\n",
       "      <td>6.000000</td>\n",
       "      <td>1.000000</td>\n",
       "      <td>0.000000</td>\n",
       "      <td>6.000000</td>\n",
       "      <td>3.000000</td>\n",
       "      <td>1.000000</td>\n",
       "      <td>0.000000</td>\n",
       "      <td>11.000000</td>\n",
       "      <td>1600.000000</td>\n",
       "    </tr>\n",
       "    <tr>\n",
       "      <th>50%</th>\n",
       "      <td>2.000000</td>\n",
       "      <td>1.000000</td>\n",
       "      <td>7.000000</td>\n",
       "      <td>7.000000</td>\n",
       "      <td>2.000000</td>\n",
       "      <td>1.000000</td>\n",
       "      <td>7.000000</td>\n",
       "      <td>3.000000</td>\n",
       "      <td>1930.000000</td>\n",
       "      <td>1964.000000</td>\n",
       "      <td>...</td>\n",
       "      <td>14.000000</td>\n",
       "      <td>6.000000</td>\n",
       "      <td>2.000000</td>\n",
       "      <td>2.000000</td>\n",
       "      <td>6.000000</td>\n",
       "      <td>3.000000</td>\n",
       "      <td>1.000000</td>\n",
       "      <td>0.000000</td>\n",
       "      <td>12.000000</td>\n",
       "      <td>2370.000000</td>\n",
       "    </tr>\n",
       "    <tr>\n",
       "      <th>75%</th>\n",
       "      <td>3.000000</td>\n",
       "      <td>1.000000</td>\n",
       "      <td>13.000000</td>\n",
       "      <td>12.000000</td>\n",
       "      <td>2.000000</td>\n",
       "      <td>1.000000</td>\n",
       "      <td>8.000000</td>\n",
       "      <td>4.000000</td>\n",
       "      <td>1947.000000</td>\n",
       "      <td>1970.000000</td>\n",
       "      <td>...</td>\n",
       "      <td>14.000000</td>\n",
       "      <td>6.000000</td>\n",
       "      <td>6.000000</td>\n",
       "      <td>8.000000</td>\n",
       "      <td>6.000000</td>\n",
       "      <td>3.000000</td>\n",
       "      <td>1.000000</td>\n",
       "      <td>1.000000</td>\n",
       "      <td>13.000000</td>\n",
       "      <td>4200.000000</td>\n",
       "    </tr>\n",
       "    <tr>\n",
       "      <th>max</th>\n",
       "      <td>24.000000</td>\n",
       "      <td>11.000000</td>\n",
       "      <td>13.000000</td>\n",
       "      <td>13.000000</td>\n",
       "      <td>2.000000</td>\n",
       "      <td>6.000000</td>\n",
       "      <td>101.000000</td>\n",
       "      <td>54.000000</td>\n",
       "      <td>2018.000000</td>\n",
       "      <td>2018.000000</td>\n",
       "      <td>...</td>\n",
       "      <td>24.000000</td>\n",
       "      <td>24.000000</td>\n",
       "      <td>15.000000</td>\n",
       "      <td>15.000000</td>\n",
       "      <td>11.000000</td>\n",
       "      <td>11.000000</td>\n",
       "      <td>44.000000</td>\n",
       "      <td>13.000000</td>\n",
       "      <td>81.000000</td>\n",
       "      <td>691817.000000</td>\n",
       "    </tr>\n",
       "  </tbody>\n",
       "</table>\n",
       "<p>8 rows × 34 columns</p>\n",
       "</div>"
      ],
      "text/plain": [
       "             BATHRM     HF_BATHRM          HEAT        HEAT_D            AC  \\\n",
       "count  74987.000000  74987.000000  74987.000000  74987.000000  74987.000000   \n",
       "mean       2.035660      0.608292      7.645952      7.754091      1.620921   \n",
       "std        1.067649      0.617184      5.038308      2.751754      0.486259   \n",
       "min        0.000000     -1.000000      0.000000      0.000000      0.000000   \n",
       "25%        1.000000      0.000000      1.000000      5.000000      1.000000   \n",
       "50%        2.000000      1.000000      7.000000      7.000000      2.000000   \n",
       "75%        3.000000      1.000000     13.000000     12.000000      2.000000   \n",
       "max       24.000000     11.000000     13.000000     13.000000      2.000000   \n",
       "\n",
       "          NUM_UNITS         ROOMS         BEDRM           AYB           EYB  \\\n",
       "count  74987.000000  74987.000000  74987.000000  74987.000000  74987.000000   \n",
       "mean       1.195967      7.356168      3.372758   1933.740968   1966.257591   \n",
       "std        0.593972      2.356113      1.169626     36.083904     16.418251   \n",
       "min        0.000000     -1.000000     -1.000000     -1.000000   1900.000000   \n",
       "25%        1.000000      6.000000      3.000000   1914.000000   1955.000000   \n",
       "50%        1.000000      7.000000      3.000000   1930.000000   1964.000000   \n",
       "75%        1.000000      8.000000      4.000000   1947.000000   1970.000000   \n",
       "max        6.000000    101.000000     54.000000   2018.000000   2018.000000   \n",
       "\n",
       "       ...       EXTWALL     EXTWALL_D          ROOF        ROOF_D  \\\n",
       "count  ...  74987.000000  74987.000000  74987.000000  74987.000000   \n",
       "mean   ...     13.355608      8.147799      3.992239      4.363570   \n",
       "std    ...      3.938126      5.919490      3.351630      4.238063   \n",
       "min    ...      0.000000      0.000000      0.000000      0.000000   \n",
       "25%    ...     14.000000      6.000000      1.000000      0.000000   \n",
       "50%    ...     14.000000      6.000000      2.000000      2.000000   \n",
       "75%    ...     14.000000      6.000000      6.000000      8.000000   \n",
       "max    ...     24.000000     24.000000     15.000000     15.000000   \n",
       "\n",
       "            INTWALL     INTWALL_D      KITCHENS    FIREPLACES       USECODE  \\\n",
       "count  74987.000000  74987.000000  74987.000000  74987.000000  74987.000000   \n",
       "mean       6.144772      3.627389      1.217491      0.619761     13.124182   \n",
       "std        1.960660      2.235960      0.624920      0.889512      3.971845   \n",
       "min        0.000000      0.000000     -1.000000     -1.000000     11.000000   \n",
       "25%        6.000000      3.000000      1.000000      0.000000     11.000000   \n",
       "50%        6.000000      3.000000      1.000000      0.000000     12.000000   \n",
       "75%        6.000000      3.000000      1.000000      1.000000     13.000000   \n",
       "max       11.000000     11.000000     44.000000     13.000000     81.000000   \n",
       "\n",
       "            LANDAREA  \n",
       "count   74987.000000  \n",
       "mean     3419.506875  \n",
       "std      5520.064430  \n",
       "min         0.000000  \n",
       "25%      1600.000000  \n",
       "50%      2370.000000  \n",
       "75%      4200.000000  \n",
       "max    691817.000000  \n",
       "\n",
       "[8 rows x 34 columns]"
      ]
     },
     "execution_count": 23,
     "metadata": {},
     "output_type": "execute_result"
    }
   ],
   "source": [
    "x.describe()"
   ]
  },
  {
   "cell_type": "code",
   "execution_count": 24,
   "metadata": {},
   "outputs": [],
   "source": [
    "#Split into test and train datasets\n",
    "seed = 42\n",
    "\n",
    "x_train, x_val, y_train, y_val = train_test_split(x, y, test_size=0.3, random_state = seed)"
   ]
  },
  {
   "cell_type": "code",
   "execution_count": 25,
   "metadata": {},
   "outputs": [
    {
     "name": "stdout",
     "output_type": "stream",
     "text": [
      "74987\n",
      "52490\n",
      "22497\n"
     ]
    }
   ],
   "source": [
    "print(len(x))\n",
    "print(len(x_train))\n",
    "print(len(x_val))"
   ]
  },
  {
   "cell_type": "markdown",
   "metadata": {},
   "source": [
    "Lets make some predictions to upload"
   ]
  },
  {
   "cell_type": "code",
   "execution_count": 48,
   "metadata": {},
   "outputs": [],
   "source": [
    "pred_df = pd.read_csv(\"../Data/Clean_Pred_Data.csv\")"
   ]
  },
  {
   "cell_type": "code",
   "execution_count": 49,
   "metadata": {},
   "outputs": [
    {
     "name": "stderr",
     "output_type": "stream",
     "text": [
      "c:\\users\\j_m_g\\appdata\\local\\programs\\python\\python38\\lib\\site-packages\\pandas\\core\\generic.py:6245: SettingWithCopyWarning: \n",
      "A value is trying to be set on a copy of a slice from a DataFrame\n",
      "\n",
      "See the caveats in the documentation: https://pandas.pydata.org/pandas-docs/stable/user_guide/indexing.html#returning-a-view-versus-a-copy\n",
      "  self._update_inplace(new_data)\n",
      "<ipython-input-49-585002b8590c>:9: SettingWithCopyWarning: \n",
      "A value is trying to be set on a copy of a slice from a DataFrame.\n",
      "Try using .loc[row_indexer,col_indexer] = value instead\n",
      "\n",
      "See the caveats in the documentation: https://pandas.pydata.org/pandas-docs/stable/user_guide/indexing.html#returning-a-view-versus-a-copy\n",
      "  p[column_name] = le.fit_transform(p[column_name])\n"
     ]
    }
   ],
   "source": [
    "p = pred_df[feats]\n",
    "\n",
    "#Label Encoding for the String columns\n",
    "le = preprocessing.LabelEncoder()\n",
    "\n",
    "for column_name in x.columns:\n",
    "    if p[column_name].dtype == object:\n",
    "        p[column_name].fillna('MISSING_DATA', inplace=True)\n",
    "        p[column_name] = le.fit_transform(p[column_name])\n",
    "    else:\n",
    "        p[column_name].fillna(-1, inplace=True)"
   ]
  },
  {
   "cell_type": "code",
   "execution_count": 111,
   "metadata": {},
   "outputs": [
    {
     "name": "stdout",
     "output_type": "stream",
     "text": [
      "0.8717948717948718\n",
      "0.8689649279912601\n"
     ]
    }
   ],
   "source": [
    "#Create the ensemble model using the Max Voting sklearn model.\n",
    "#First submission - Scored 0.85777\n",
    "model1 = LogisticRegression(multi_class='multinomial', random_state=1)\n",
    "model2 = DecisionTreeClassifier(random_state=1)\n",
    "model = VotingClassifier(estimators=[('lr', model1), ('dt', model2)], voting='soft')\n",
    "model.fit(x_train,y_train)\n",
    "print(model.score(x_val,y_val))\n",
    "\n",
    "y_pred = model.predict(x_val)\n",
    "print(roc_auc_score(y_val, y_pred))\n",
    "\n",
    "p_pred = model.predict(p)\n",
    "\n",
    "upload_df = pd.DataFrame()\n",
    "upload_df['row ID'] = pred_df['row ID']\n",
    "upload_df['Predict-Qualified'] = p_pred\n",
    "upload_df.to_csv(r'../Data/Ensemble_Prediction.csv', index = False)"
   ]
  },
  {
   "cell_type": "code",
   "execution_count": 117,
   "metadata": {},
   "outputs": [
    {
     "name": "stdout",
     "output_type": "stream",
     "text": [
      "0.8939252544105231\n",
      "0.8951497639186483\n"
     ]
    }
   ],
   "source": [
    "#Create the ensemble model using the Max Voting sklearn model.\n",
    "#Second & Third submission - Scored 0.89037\n",
    "model1 = LogisticRegression(multi_class='multinomial', random_state=1)\n",
    "model2 = DecisionTreeClassifier(random_state=1)\n",
    "model3 = XGBClassifier(seed=seed)\n",
    "model = VotingClassifier(estimators=[('lr', model1), ('dt', model2), ('xgb', model3)], voting='soft')\n",
    "model.fit(x_train,y_train)\n",
    "print(model.score(x_val,y_val))\n",
    "\n",
    "y_pred = model.predict(x_val)\n",
    "print(roc_auc_score(y_val, y_pred))\n",
    "\n",
    "p_pred = model.predict(p)\n",
    "\n",
    "upload_df = pd.DataFrame()\n",
    "upload_df['row ID'] = pred_df['row ID']\n",
    "upload_df['Predict-Qualified'] = p_pred\n",
    "upload_df.to_csv(r'../Data/Ensemble_Prediction_Second.csv', index = False)"
   ]
  },
  {
   "cell_type": "code",
   "execution_count": 28,
   "metadata": {},
   "outputs": [
    {
     "name": "stderr",
     "output_type": "stream",
     "text": [
      "c:\\users\\j_m_g\\appdata\\local\\programs\\python\\python38\\lib\\site-packages\\sklearn\\linear_model\\_logistic.py:762: ConvergenceWarning: lbfgs failed to converge (status=1):\n",
      "STOP: TOTAL NO. of ITERATIONS REACHED LIMIT.\n",
      "\n",
      "Increase the number of iterations (max_iter) or scale the data as shown in:\n",
      "    https://scikit-learn.org/stable/modules/preprocessing.html\n",
      "Please also refer to the documentation for alternative solver options:\n",
      "    https://scikit-learn.org/stable/modules/linear_model.html#logistic-regression\n",
      "  n_iter_i = _check_optimize_result(\n"
     ]
    },
    {
     "name": "stdout",
     "output_type": "stream",
     "text": [
      "0.9116771125038894\n",
      "0.9165478009677234\n"
     ]
    }
   ],
   "source": [
    "#Create the ensemble model using the Max Voting sklearn model.\n",
    "#Fourth Submission - Scored 0.90499\n",
    "model1 = LogisticRegression(multi_class='auto', random_state=seed)\n",
    "model2 = DecisionTreeClassifier(random_state=seed)\n",
    "model3 = XGBClassifier(seed=seed)\n",
    "model4 = RandomForestClassifier(random_state=seed, criterion='entropy')\n",
    "model5 = GradientBoostingClassifier(random_state=seed)\n",
    "model6 = RandomForestClassifier(random_state=seed, criterion='gini')\n",
    "\n",
    "model = VotingClassifier(estimators=[('lr', model1), ('dt', model2), ('xgb', model3), ('rfc1', model4), ('gbc', model5), ('rfc2', model6)], voting='soft')\n",
    "model.fit(x_train,y_train)\n",
    "print(model.score(x_val,y_val))\n",
    "\n",
    "y_pred = model.predict(x_val)\n",
    "print(roc_auc_score(y_val, y_pred))\n",
    "\n",
    "p_pred = model.predict(p)\n",
    "\n",
    "upload_df = pd.DataFrame()\n",
    "upload_df['row ID'] = pred_df['row ID']\n",
    "upload_df['Predict-Qualified'] = p_pred\n",
    "upload_df.to_csv(r'../Data/Ensemble_Prediction_Fifth.csv', index = False)"
   ]
  },
  {
   "cell_type": "code",
   "execution_count": 31,
   "metadata": {},
   "outputs": [
    {
     "name": "stdout",
     "output_type": "stream",
     "text": [
      "0.9129661732675468\n",
      "0.9201440385588527\n"
     ]
    }
   ],
   "source": [
    "#Create the ensemble model using the Max Voting sklearn model.\n",
    "#Fourth Submission - Scored 0.90624\n",
    "model1 = KNeighborsClassifier()\n",
    "model2 = DecisionTreeClassifier(random_state=seed)\n",
    "model3 = XGBClassifier(seed=seed)\n",
    "model4 = RandomForestClassifier(random_state=seed, criterion='entropy')\n",
    "model5 = GradientBoostingClassifier(random_state=seed)\n",
    "model6 = RandomForestClassifier(random_state=seed, criterion='gini')\n",
    "\n",
    "model = VotingClassifier(estimators=[('lr', model1), ('dt', model2), ('xgb', model3), ('rfc1', model4), ('gbc', model5), ('rfc2', model6)], voting='soft')\n",
    "model.fit(x_train,y_train)\n",
    "print(model.score(x_val,y_val))\n",
    "\n",
    "y_pred = model.predict(x_val)\n",
    "print(roc_auc_score(y_val, y_pred))\n",
    "\n",
    "p_pred = model.predict(p)\n",
    "\n",
    "upload_df = pd.DataFrame()\n",
    "upload_df['row ID'] = pred_df['row ID']\n",
    "upload_df['Predict-Qualified'] = p_pred\n",
    "upload_df.to_csv(r'../Data/Ensemble_Prediction_Clean_Data.csv', index = False)"
   ]
  },
  {
   "cell_type": "code",
   "execution_count": 50,
   "metadata": {},
   "outputs": [
    {
     "name": "stdout",
     "output_type": "stream",
     "text": [
      "0.9170556074143219\n",
      "0.9220165382066988\n"
     ]
    }
   ],
   "source": [
    "#Create a stacking model\n",
    "model1 = KNeighborsClassifier()\n",
    "model2 = DecisionTreeClassifier(random_state=seed)\n",
    "model3 = XGBClassifier(seed=seed)\n",
    "model4 = RandomForestClassifier(random_state=seed, criterion='entropy')\n",
    "model5 = GradientBoostingClassifier(random_state=seed)\n",
    "model6 = RandomForestClassifier(random_state=seed, criterion='gini')\n",
    "\n",
    "estimators = [('lr', model1), ('dt', model2), ('xgb', model3), ('rfc1', model4), ('gbc', model5), ('rfc2', model6)]\n",
    "\n",
    "stacking = StackingClassifier(\n",
    "    estimators=estimators, final_estimator=LogisticRegression()\n",
    ")\n",
    "\n",
    "stacking.fit(x_train,y_train)\n",
    "print(stacking.score(x_val,y_val))\n",
    "\n",
    "y_pred = stacking.predict(x_val)\n",
    "print(roc_auc_score(y_val, y_pred))"
   ]
  },
  {
   "cell_type": "code",
   "execution_count": 55,
   "metadata": {},
   "outputs": [
    {
     "name": "stdout",
     "output_type": "stream",
     "text": [
      "0.9172334088989643\n",
      "0.9212683631393127\n"
     ]
    }
   ],
   "source": [
    "#Create a stacking model\n",
    "model1 = KNeighborsClassifier()\n",
    "model2 = DecisionTreeClassifier(random_state=seed)\n",
    "model3 = XGBClassifier(seed=seed)\n",
    "model4 = SVC()\n",
    "model5 = GaussianNB()\n",
    "model6 = RandomForestClassifier(random_state=seed, criterion='gini')\n",
    "\n",
    "estimators = [('lr', model1), ('dt', model2), ('xgb', model3), ('rfc1', model4), ('gbc', model5), ('rfc2', model6)]\n",
    "\n",
    "stacking = StackingClassifier(\n",
    "    estimators=estimators, final_estimator=LogisticRegression()\n",
    ")\n",
    "\n",
    "stacking.fit(x_train,y_train)\n",
    "print(stacking.score(x_val,y_val))\n",
    "\n",
    "y_pred = stacking.predict(x_val)\n",
    "print(roc_auc_score(y_val, y_pred))"
   ]
  },
  {
   "cell_type": "code",
   "execution_count": 72,
   "metadata": {},
   "outputs": [
    {
     "name": "stdout",
     "output_type": "stream",
     "text": [
      "0.8940747655242921\n",
      "0.9002342529869186\n"
     ]
    }
   ],
   "source": [
    "model1 = KNeighborsClassifier()\n",
    "model1.fit(x_train,y_train)\n",
    "print(model1.score(x_val,y_val))\n",
    "\n",
    "y_pred = model1.predict(x_val)\n",
    "print(roc_auc_score(y_val, y_pred))"
   ]
  },
  {
   "cell_type": "code",
   "execution_count": 88,
   "metadata": {},
   "outputs": [
    {
     "name": "stdout",
     "output_type": "stream",
     "text": [
      "0.8768724718851403\n",
      "0.8734219712231776\n",
      "              precision    recall  f1-score   support\n",
      "\n",
      "           0       0.89      0.90      0.89     12940\n",
      "           1       0.86      0.85      0.85      9557\n",
      "\n",
      "    accuracy                           0.88     22497\n",
      "   macro avg       0.87      0.87      0.87     22497\n",
      "weighted avg       0.88      0.88      0.88     22497\n",
      "\n"
     ]
    }
   ],
   "source": [
    "model2 = DecisionTreeClassifier(random_state=seed)\n",
    "model2.fit(x_train,y_train)\n",
    "print(model2.score(x_val,y_val))\n",
    "\n",
    "y_pred = model2.predict(x_val)\n",
    "print(roc_auc_score(y_val, y_pred))\n",
    "\n",
    "print(classification_report(y_val, y_pred))"
   ]
  },
  {
   "cell_type": "code",
   "execution_count": 87,
   "metadata": {},
   "outputs": [
    {
     "name": "stdout",
     "output_type": "stream",
     "text": [
      "0.917277859270125\n",
      "0.922715816061089\n",
      "              precision    recall  f1-score   support\n",
      "\n",
      "           0       0.97      0.89      0.92     12940\n",
      "           1       0.86      0.96      0.91      9557\n",
      "\n",
      "    accuracy                           0.92     22497\n",
      "   macro avg       0.91      0.92      0.92     22497\n",
      "weighted avg       0.92      0.92      0.92     22497\n",
      "\n"
     ]
    }
   ],
   "source": [
    "model3 = XGBClassifier(seed=seed, nthread=3)\n",
    "model3.fit(x_train,y_train)\n",
    "print(model3.score(x_val,y_val))\n",
    "\n",
    "y_pred = model3.predict(x_val)\n",
    "print(roc_auc_score(y_val, y_pred))\n",
    "\n",
    "print(classification_report(y_val, y_pred))"
   ]
  },
  {
   "cell_type": "code",
   "execution_count": 39,
   "metadata": {},
   "outputs": [
    {
     "name": "stdout",
     "output_type": "stream",
     "text": [
      "0.9079877316975596\n",
      "0.914899960038031\n"
     ]
    }
   ],
   "source": [
    "model4 = SVC()\n",
    "model4.fit(x_train,y_train)\n",
    "print(model4.score(x_val,y_val))\n",
    "\n",
    "y_pred = model4.predict(x_val)\n",
    "print(roc_auc_score(y_val, y_pred))"
   ]
  },
  {
   "cell_type": "code",
   "execution_count": 40,
   "metadata": {},
   "outputs": [
    {
     "name": "stdout",
     "output_type": "stream",
     "text": [
      "0.9077654798417567\n",
      "0.9173739309849842\n"
     ]
    }
   ],
   "source": [
    "model5 = GaussianNB()\n",
    "model5.fit(x_train,y_train)\n",
    "print(model5.score(x_val,y_val))\n",
    "\n",
    "y_pred = model5.predict(x_val)\n",
    "print(roc_auc_score(y_val, y_pred))"
   ]
  },
  {
   "cell_type": "code",
   "execution_count": 41,
   "metadata": {},
   "outputs": [
    {
     "name": "stdout",
     "output_type": "stream",
     "text": [
      "0.9083433346668445\n",
      "0.9149081675245849\n"
     ]
    }
   ],
   "source": [
    "model6 = RandomForestClassifier(random_state=seed, criterion='gini')\n",
    "model6.fit(x_train,y_train)\n",
    "print(model6.score(x_val,y_val))\n",
    "\n",
    "y_pred = model6.predict(x_val)\n",
    "print(roc_auc_score(y_val, y_pred))"
   ]
  },
  {
   "cell_type": "code",
   "execution_count": null,
   "metadata": {},
   "outputs": [],
   "source": []
  },
  {
   "cell_type": "code",
   "execution_count": 35,
   "metadata": {},
   "outputs": [],
   "source": [
    "p_pred = stacking.predict(p)\n",
    "\n",
    "upload_df = pd.DataFrame()\n",
    "upload_df['row ID'] = pred_df['row ID']\n",
    "upload_df['Predict-Qualified'] = p_pred\n",
    "upload_df.to_csv(r'../Data/Ensemble_Prediction_Stacking.csv', index = False)"
   ]
  },
  {
   "cell_type": "code",
   "execution_count": 64,
   "metadata": {},
   "outputs": [
    {
     "name": "stdout",
     "output_type": "stream",
     "text": [
      "0.8940747655242921\n",
      "0.9002342529869186\n",
      "              precision    recall  f1-score   support\n",
      "\n",
      "           0       0.95      0.86      0.90     12940\n",
      "           1       0.83      0.94      0.88      9557\n",
      "\n",
      "    accuracy                           0.89     22497\n",
      "   macro avg       0.89      0.90      0.89     22497\n",
      "weighted avg       0.90      0.89      0.89     22497\n",
      "\n"
     ]
    }
   ],
   "source": [
    "KNNModel = KNeighborsClassifier(n_jobs = 3)\n",
    "KNNModel.fit(x_train,y_train)\n",
    "print(KNNModel.score(x_val,y_val))\n",
    "\n",
    "y_pred = KNNModel.predict(x_val)\n",
    "print(roc_auc_score(y_val, y_pred))\n",
    "\n",
    "print(classification_report(y_val, y_pred))"
   ]
  },
  {
   "cell_type": "code",
   "execution_count": 71,
   "metadata": {},
   "outputs": [
    {
     "name": "stdout",
     "output_type": "stream",
     "text": [
      "0.8980308485575854\n",
      "0.907243106883793\n",
      "              precision    recall  f1-score   support\n",
      "\n",
      "           0       0.97      0.85      0.91     12940\n",
      "           1       0.82      0.97      0.89      9557\n",
      "\n",
      "    accuracy                           0.90     22497\n",
      "   macro avg       0.90      0.91      0.90     22497\n",
      "weighted avg       0.91      0.90      0.90     22497\n",
      "\n"
     ]
    }
   ],
   "source": [
    "KNNModel = KNeighborsClassifier(n_neighbors = 20, leaf_size = 20, n_jobs = 3, p=1)\n",
    "KNNModel.fit(x_train,y_train)\n",
    "print(KNNModel.score(x_val,y_val))\n",
    "\n",
    "y_pred = KNNModel.predict(x_val)\n",
    "print(roc_auc_score(y_val, y_pred))\n",
    "\n",
    "print(classification_report(y_val, y_pred))"
   ]
  },
  {
   "cell_type": "code",
   "execution_count": 74,
   "metadata": {},
   "outputs": [
    {
     "name": "stdout",
     "output_type": "stream",
     "text": [
      "Best leaf_size: 10\n",
      "Best p: 1\n",
      "Best n_neighbors: 25\n"
     ]
    }
   ],
   "source": [
    "#List Hyperparameters that we want to tune.\n",
    "leaf_size = list([10,15,20,25])\n",
    "n_neighbors = list([10,15,20,25])\n",
    "p=[1,2]\n",
    "\n",
    "#Convert to dictionary\n",
    "hyperparameters = dict(leaf_size=leaf_size, n_neighbors=n_neighbors, p=p)\n",
    "\n",
    "#Create new KNN object\n",
    "knn_2 = KNeighborsClassifier(n_jobs = 3)\n",
    "\n",
    "#Use GridSearch\n",
    "clf = GridSearchCV(knn_2, hyperparameters, cv=10)\n",
    "\n",
    "#Fit the model\n",
    "best_model = clf.fit(x_train,y_train)\n",
    "#Print The value of best Hyperparameters\n",
    "print('Best leaf_size:', best_model.best_estimator_.get_params()['leaf_size'])\n",
    "print('Best p:', best_model.best_estimator_.get_params()['p'])\n",
    "print('Best n_neighbors:', best_model.best_estimator_.get_params()['n_neighbors'])"
   ]
  },
  {
   "cell_type": "code",
   "execution_count": 83,
   "metadata": {},
   "outputs": [
    {
     "name": "stdout",
     "output_type": "stream",
     "text": [
      "Best leaf_size: 3\n",
      "Best p: 1\n",
      "Best n_neighbors: 25\n"
     ]
    }
   ],
   "source": [
    "#List Hyperparameters that we want to tune.\n",
    "leaf_size = list([3,5,7])\n",
    "n_neighbors = list([20,25,30])\n",
    "p=[1,2]\n",
    "\n",
    "#Convert to dictionary\n",
    "hyperparameters = dict(leaf_size=leaf_size, n_neighbors=n_neighbors, p=p)\n",
    "\n",
    "#Create new KNN object\n",
    "knn_2 = KNeighborsClassifier(n_jobs = 3)\n",
    "\n",
    "#Use GridSearch\n",
    "clf = GridSearchCV(knn_2, hyperparameters, cv=10)\n",
    "\n",
    "#Fit the model\n",
    "best_model = clf.fit(x_train,y_train)\n",
    "#Print The value of best Hyperparameters\n",
    "print('Best leaf_size:', best_model.best_estimator_.get_params()['leaf_size'])\n",
    "print('Best p:', best_model.best_estimator_.get_params()['p'])\n",
    "print('Best n_neighbors:', best_model.best_estimator_.get_params()['n_neighbors'])"
   ]
  },
  {
   "cell_type": "code",
   "execution_count": 84,
   "metadata": {},
   "outputs": [
    {
     "name": "stdout",
     "output_type": "stream",
     "text": [
      "0.90849120683044\n",
      "              precision    recall  f1-score   support\n",
      "\n",
      "           0       0.98      0.84      0.91     12940\n",
      "           1       0.82      0.98      0.89      9557\n",
      "\n",
      "    accuracy                           0.90     22497\n",
      "   macro avg       0.90      0.91      0.90     22497\n",
      "weighted avg       0.91      0.90      0.90     22497\n",
      "\n"
     ]
    }
   ],
   "source": [
    "y_pred = best_model.best_estimator_.predict(x_val)\n",
    "print(roc_auc_score(y_val, y_pred))\n",
    "\n",
    "print(classification_report(y_val, y_pred))"
   ]
  },
  {
   "cell_type": "markdown",
   "metadata": {},
   "source": [
    "Using the best model, we'll scale our data and make new predictions"
   ]
  },
  {
   "cell_type": "code",
   "execution_count": 91,
   "metadata": {},
   "outputs": [],
   "source": [
    "scaler = StandardScaler()\n",
    "\n",
    "scaler.fit(x)\n",
    "x_scaler = scaler.transform(x)\n",
    "\n",
    "#Split into test and train datasets\n",
    "seed = 42\n",
    "\n",
    "x_train, x_val, y_train, y_val = train_test_split(x_scaler, y, test_size=0.2, random_state = seed)"
   ]
  },
  {
   "cell_type": "code",
   "execution_count": 92,
   "metadata": {},
   "outputs": [
    {
     "name": "stderr",
     "output_type": "stream",
     "text": [
      "c:\\users\\j_m_g\\appdata\\local\\programs\\python\\python38\\lib\\site-packages\\pandas\\core\\generic.py:6245: SettingWithCopyWarning: \n",
      "A value is trying to be set on a copy of a slice from a DataFrame\n",
      "\n",
      "See the caveats in the documentation: https://pandas.pydata.org/pandas-docs/stable/user_guide/indexing.html#returning-a-view-versus-a-copy\n",
      "  self._update_inplace(new_data)\n",
      "<ipython-input-92-73144384f05c>:11: SettingWithCopyWarning: \n",
      "A value is trying to be set on a copy of a slice from a DataFrame.\n",
      "Try using .loc[row_indexer,col_indexer] = value instead\n",
      "\n",
      "See the caveats in the documentation: https://pandas.pydata.org/pandas-docs/stable/user_guide/indexing.html#returning-a-view-versus-a-copy\n",
      "  p[column_name] = le.fit_transform(p[column_name])\n"
     ]
    }
   ],
   "source": [
    "pred_df = pd.read_csv(\"../Data/Clean_Pred_Data.csv\")\n",
    "\n",
    "p = pred_df[feats]\n",
    "\n",
    "#Label Encoding for the String columns\n",
    "le = preprocessing.LabelEncoder()\n",
    "\n",
    "for column_name in x.columns:\n",
    "    if p[column_name].dtype == object:\n",
    "        p[column_name].fillna('MISSING_DATA', inplace=True)\n",
    "        p[column_name] = le.fit_transform(p[column_name])\n",
    "    else:\n",
    "        p[column_name].fillna(-1, inplace=True)\n",
    "        \n",
    "scaler = StandardScaler()\n",
    "\n",
    "scaler.fit(p)\n",
    "p = scaler.transform(p)"
   ]
  },
  {
   "cell_type": "code",
   "execution_count": 93,
   "metadata": {},
   "outputs": [
    {
     "name": "stdout",
     "output_type": "stream",
     "text": [
      "0.9156554207227631\n",
      "0.9195503450915733\n"
     ]
    }
   ],
   "source": [
    "#Create a stacking model\n",
    "model1 = KNeighborsClassifier()\n",
    "model2 = DecisionTreeClassifier(random_state=seed)\n",
    "model3 = XGBClassifier(seed=seed)\n",
    "model4 = SVC()\n",
    "model5 = GaussianNB()\n",
    "model6 = RandomForestClassifier(random_state=seed, criterion='gini')\n",
    "\n",
    "estimators = [('lr', model1), ('dt', model2), ('xgb', model3), ('rfc1', model4), ('gbc', model5), ('rfc2', model6)]\n",
    "\n",
    "stacking = StackingClassifier(\n",
    "    estimators=estimators, final_estimator=LogisticRegression()\n",
    ")\n",
    "\n",
    "stacking.fit(x_train,y_train)\n",
    "print(stacking.score(x_val,y_val))\n",
    "\n",
    "y_pred = stacking.predict(x_val)\n",
    "print(roc_auc_score(y_val, y_pred))"
   ]
  },
  {
   "cell_type": "code",
   "execution_count": 94,
   "metadata": {},
   "outputs": [
    {
     "name": "stdout",
     "output_type": "stream",
     "text": [
      "0.9109881317509001\n",
      "0.9167658391955462\n"
     ]
    }
   ],
   "source": [
    "model1 = KNeighborsClassifier()\n",
    "model2 = DecisionTreeClassifier(random_state=seed)\n",
    "model3 = XGBClassifier(seed=seed)\n",
    "model4 = RandomForestClassifier(random_state=seed, criterion='entropy')\n",
    "model5 = GradientBoostingClassifier(random_state=seed)\n",
    "model6 = RandomForestClassifier(random_state=seed, criterion='gini')\n",
    "\n",
    "model = VotingClassifier(estimators=[('lr', model1), ('dt', model2), ('xgb', model3), ('rfc1', model4), ('gbc', model5), ('rfc2', model6)], voting='soft')\n",
    "model.fit(x_train,y_train)\n",
    "print(model.score(x_val,y_val))\n",
    "\n",
    "y_pred = model.predict(x_val)\n",
    "print(roc_auc_score(y_val, y_pred))\n",
    "\n",
    "p_pred = model.predict(p)\n",
    "\n",
    "upload_df = pd.DataFrame()\n",
    "upload_df['row ID'] = pred_df['row ID']\n",
    "upload_df['Predict-Qualified'] = p_pred\n",
    "upload_df.to_csv(r'../Data/Ensemble_Prediction_Clean_Data.csv', index = False)"
   ]
  }
 ],
 "metadata": {
  "kernelspec": {
   "display_name": "Python 3",
   "language": "python",
   "name": "python3"
  },
  "language_info": {
   "codemirror_mode": {
    "name": "ipython",
    "version": 3
   },
   "file_extension": ".py",
   "mimetype": "text/x-python",
   "name": "python",
   "nbconvert_exporter": "python",
   "pygments_lexer": "ipython3",
   "version": "3.8.3"
  }
 },
 "nbformat": 4,
 "nbformat_minor": 4
}
